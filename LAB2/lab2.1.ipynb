{
 "cells": [
  {
   "cell_type": "code",
   "execution_count": 5,
   "metadata": {},
   "outputs": [
    {
     "name": "stdout",
     "output_type": "stream",
     "text": [
      "Nhiệt độ hàng ngày trong tháng: [22.49 34.01 29.64 26.97 18.12 18.12 16.16 32.32 27.02 29.16 15.41 34.4\n",
      " 31.65 19.25 18.64 18.67 21.08 25.5  23.64 20.82 27.24 17.79 20.84 22.33\n",
      " 24.12 30.7  18.99 25.28 26.85 15.93]\n",
      "Nhiệt độ trung bình trong tháng: 23.77 độ C\n"
     ]
    }
   ],
   "source": [
    "import numpy as np\n",
    "\n",
    "# 1. Tạo Dữ Liệu Mô Phỏng Nhiệt Độ\n",
    "np.random.seed(42)  # Đảm bảo tính lặp lại\n",
    "temperatures = np.round(np.random.uniform(low=15, high=35, size=30), 2)  # Dữ liệu nhiệt độ 30 ngày\n",
    "print(\"Nhiệt độ hàng ngày trong tháng:\", temperatures)\n",
    "# Tính nhiệt độ trung bình trong tháng\n",
    "average_temp = np.mean(temperatures)\n",
    "print(f\"Nhiệt độ trung bình trong tháng: {average_temp:.2f} độ C\")"
   ]
  },
  {
   "cell_type": "code",
   "execution_count": 6,
   "metadata": {},
   "outputs": [
    {
     "name": "stdout",
     "output_type": "stream",
     "text": [
      "Nhiệt độ cao nhất: 34.40 độ C, ngày thứ 12\n",
      "Nhiệt độ thấp nhất: 15.41 độ C, ngày thứ 11\n",
      "Sự chênh lệch nhiệt độ lớn nhất: 18.99 độ C, giữa ngày 11 và 12\n"
     ]
    }
   ],
   "source": [
    "# 2. Phân Tích Xu Hướng Nhiệt Độ\n",
    "# Ngày có nhiệt độ cao nhất và thấp nhất\n",
    "max_temp = np.max(temperatures)\n",
    "min_temp = np.min(temperatures)\n",
    "max_day = np.argmax(temperatures) + 1  # Thêm 1 vì mảng bắt đầu từ 0\n",
    "min_day = np.argmin(temperatures) + 1\n",
    "\n",
    "print(f\"Nhiệt độ cao nhất: {max_temp:.2f} độ C, ngày thứ {max_day}\")\n",
    "print(f\"Nhiệt độ thấp nhất: {min_temp:.2f} độ C, ngày thứ {min_day}\")\n",
    "\n",
    "# Sự chênh lệch nhiệt độ giữa các ngày\n",
    "temp_diff = np.abs(np.diff(temperatures))  # Lấy giá trị tuyệt đối của sự khác biệt\n",
    "max_diff = np.max(temp_diff)\n",
    "max_diff_day = np.argmax(temp_diff) + 1  # Ngày bắt đầu của sự chênh lệch lớn nhất\n",
    "\n",
    "print(f\"Sự chênh lệch nhiệt độ lớn nhất: {max_diff:.2f} độ C, giữa ngày {max_diff_day} và {max_diff_day + 1}\")"
   ]
  },
  {
   "cell_type": "code",
   "execution_count": 7,
   "metadata": {},
   "outputs": [
    {
     "name": "stdout",
     "output_type": "stream",
     "text": [
      "Những ngày có nhiệt độ trên 20 độ C: [ 1  2  3  4  8  9 10 12 13 17 18 19 20 21 23 24 25 26 28 29]\n",
      "Nhiệt độ ngày 5, 10, 15, 20, 25: [18.12 29.16 18.64 20.82 24.12]\n",
      "Nhiệt độ các ngày trên trung bình: [34.01 29.64 26.97 32.32 27.02 29.16 34.4  31.65 25.5  27.24 24.12 30.7\n",
      " 25.28 26.85]\n",
      "Nhiệt độ các ngày chẵn: [34.01 26.97 18.12 32.32 29.16 34.4  19.25 18.67 25.5  20.82 17.79 22.33\n",
      " 30.7  25.28 15.93]\n",
      "Nhiệt độ các ngày lẻ: [22.49 29.64 18.12 16.16 27.02 15.41 31.65 18.64 21.08 23.64 27.24 20.84\n",
      " 24.12 18.99 26.85]\n"
     ]
    }
   ],
   "source": [
    "# 3. Áp Dụng Fancy Indexing\n",
    "# Ngày có nhiệt độ cao hơn 20 độ C\n",
    "days_above_20 = np.where(temperatures > 20)[0] + 1  # Thêm 1 vì ngày bắt đầu từ 1\n",
    "print(f\"Những ngày có nhiệt độ trên 20 độ C: {days_above_20}\")\n",
    "\n",
    "# Nhiệt độ của ngày 5, 10, 15, 20, 25\n",
    "selected_days = [5, 10, 15, 20, 25]\n",
    "selected_temperatures = temperatures[np.array(selected_days) - 1]  # Trừ 1 vì mảng bắt đầu từ 0\n",
    "print(f\"Nhiệt độ ngày 5, 10, 15, 20, 25: {selected_temperatures}\")\n",
    "\n",
    "# Nhiệt độ của các ngày trên trung bình\n",
    "above_avg_temps = temperatures[temperatures > average_temp]\n",
    "print(f\"Nhiệt độ các ngày trên trung bình: {above_avg_temps}\")\n",
    "\n",
    "# Nhiệt độ của các ngày chẵn và lẻ\n",
    "even_days_temps = temperatures[1::2]  # Chỉ số lẻ (ngày chẵn)\n",
    "odd_days_temps = temperatures[0::2]   # Chỉ số chẵn (ngày lẻ)\n",
    "\n",
    "print(f\"Nhiệt độ các ngày chẵn: {even_days_temps}\")\n",
    "print(f\"Nhiệt độ các ngày lẻ: {odd_days_temps}\")"
   ]
  },
  {
   "cell_type": "code",
   "execution_count": 8,
   "metadata": {},
   "outputs": [
    {
     "name": "stdout",
     "output_type": "stream",
     "text": [
      "Hiệu suất trung bình: 98.23\n",
      "Hiệu suất cao nhất: 149, ngày thứ 34\n",
      "Hiệu suất thấp nhất: 50, ngày thứ 55\n"
     ]
    }
   ],
   "source": [
    "# 4. Đọc và phân tích file efficiency.txt\n",
    "file_path = 'D:/17A1KHDL/LAB2/DATA/efficiency.txt'\n",
    "efficiency = np.loadtxt(file_path, dtype=int)\n",
    "\n",
    "# Trung bình hiệu suất\n",
    "avg_efficiency = np.mean(efficiency)\n",
    "print(f\"Hiệu suất trung bình: {avg_efficiency:.2f}\")\n",
    "\n",
    "# Ngày có hiệu suất cao nhất và thấp nhất\n",
    "max_eff = np.max(efficiency)\n",
    "min_eff = np.min(efficiency)\n",
    "max_eff_day = np.argmax(efficiency) + 1\n",
    "min_eff_day = np.argmin(efficiency) + 1\n",
    "\n",
    "print(f\"Hiệu suất cao nhất: {max_eff}, ngày thứ {max_eff_day}\")\n",
    "print(f\"Hiệu suất thấp nhất: {min_eff}, ngày thứ {min_eff_day}\")\n"
   ]
  }
 ],
 "metadata": {
  "kernelspec": {
   "display_name": "Python 3",
   "language": "python",
   "name": "python3"
  },
  "language_info": {
   "codemirror_mode": {
    "name": "ipython",
    "version": 3
   },
   "file_extension": ".py",
   "mimetype": "text/x-python",
   "name": "python",
   "nbconvert_exporter": "python",
   "pygments_lexer": "ipython3",
   "version": "3.11.9"
  }
 },
 "nbformat": 4,
 "nbformat_minor": 2
}
